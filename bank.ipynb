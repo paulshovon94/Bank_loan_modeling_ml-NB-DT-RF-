{
 "cells": [
  {
   "cell_type": "code",
   "execution_count": 2,
   "metadata": {},
   "outputs": [],
   "source": [
    "import pandas as pd\n",
    "import matplotlib.pyplot as plt\n",
    "data=pd.read_excel('Bank_Personal_Loan_Modelling.xlsx')\n",
    "#data.head(18)"
   ]
  },
  {
   "cell_type": "code",
   "execution_count": 3,
   "metadata": {},
   "outputs": [],
   "source": [
    "#data.info()\n",
    "#data.describe()\n",
    "X= data.drop(['CreditCard'], axis=1)\n",
    "################ Does the customer uses a credit card issued by UniversalBank?\n",
    "y = data['CreditCard']\n",
    "#X.info()\n"
   ]
  },
  {
   "cell_type": "code",
   "execution_count": 4,
   "metadata": {},
   "outputs": [],
   "source": [
    "from sklearn.model_selection import train_test_split\n",
    "from sklearn.metrics import classification_report, confusion_matrix\n",
    "from sklearn import tree ,metrics\n",
    "X_train, X_test, y_train, y_test = train_test_split(X, y, test_size=0.3,random_state=0) "
   ]
  },
  {
   "cell_type": "code",
   "execution_count": 7,
   "metadata": {},
   "outputs": [
    {
     "name": "stdout",
     "output_type": "stream",
     "text": [
      "[1 1 0 ... 1 0 1]\n",
      "Misclassified samples: 562\n",
      "Accuracy: 0.63\n",
      "             precision    recall  f1-score   support\n",
      "\n",
      "          0       0.74      0.72      0.73      1055\n",
      "          1       0.38      0.40      0.39       445\n",
      "\n",
      "avg / total       0.63      0.63      0.63      1500\n",
      "\n"
     ]
    }
   ],
   "source": [
    "#DecisionTreeClassifier\n",
    "model =tree.DecisionTreeClassifier(criterion='entropy',random_state=20)\n",
    "model.fit(X_train,y_train)\n",
    "y_predict=model.predict(X_test)\n",
    "print(y_predict)\n",
    "count_misclassified = (y_test != y_predict).sum()\n",
    "print('Misclassified samples: {}'.format(count_misclassified))\n",
    "accuracy = metrics.accuracy_score(y_test, y_predict)\n",
    "print('Accuracy: {:.2f}'.format(accuracy))\n",
    "print(classification_report(y_test,y_predict))"
   ]
  },
  {
   "cell_type": "code",
   "execution_count": 8,
   "metadata": {},
   "outputs": [],
   "source": [
    "#import pydotplus \n",
    "#d_tree = tree.DecisionTreeClassifier()\n",
    "#d_tree.fit(X_scaled, y)\n",
    "\n",
    "#dot_data = tree.export_graphviz(d_tree,\n",
    "#                                out_file=None,\n",
    "#                               filled=True,\n",
    "#                             \n",
    "#rounded=True,\n",
    "#                               special_characters=True)  \n",
    "#graph = pydotplus.graph_from_dot_data(dot_data)  \n",
    "\n",
    "#from IPython.display import Image \n",
    "#Image(graph.create_png())"
   ]
  },
  {
   "cell_type": "code",
   "execution_count": 10,
   "metadata": {},
   "outputs": [
    {
     "name": "stdout",
     "output_type": "stream",
     "text": [
      "[1 0 0 ... 0 0 0]\n",
      "Misclassified samples: 436\n",
      "Accuracy: 0.71\n",
      "             precision    recall  f1-score   support\n",
      "\n",
      "          0       0.73      0.93      0.82      1055\n",
      "          1       0.53      0.19      0.28       445\n",
      "\n",
      "avg / total       0.67      0.71      0.66      1500\n",
      "\n"
     ]
    },
    {
     "name": "stderr",
     "output_type": "stream",
     "text": [
      "C:\\Users\\pauls\\Anaconda3\\lib\\site-packages\\sklearn\\ensemble\\weight_boosting.py:29: DeprecationWarning: numpy.core.umath_tests is an internal NumPy module and should not be imported. It will be removed in a future NumPy release.\n",
      "  from numpy.core.umath_tests import inner1d\n"
     ]
    }
   ],
   "source": [
    "#RandomForestClassifier\n",
    "from sklearn.ensemble import RandomForestClassifier\n",
    "model = RandomForestClassifier(n_estimators=10, criterion='entropy')\n",
    "model.fit(X_train,y_train)\n",
    "y_predict = model.predict(X_test)\n",
    "print(y_predict)\n",
    "count_misclassified = (y_test != y_predict).sum()\n",
    "print('Misclassified samples: {}'.format(count_misclassified))\n",
    "accuracy = metrics.accuracy_score(y_test, y_predict)\n",
    "print('Accuracy: {:.2f}'.format(accuracy))\n",
    "print(classification_report(y_test,y_predict))"
   ]
  },
  {
   "cell_type": "code",
   "execution_count": 11,
   "metadata": {},
   "outputs": [
    {
     "name": "stdout",
     "output_type": "stream",
     "text": [
      "[0 0 0 ... 0 0 0]\n",
      "Misclassified samples: 386\n",
      "Accuracy: 0.74\n",
      "             precision    recall  f1-score   support\n",
      "\n",
      "          0       0.74      0.99      0.84      1055\n",
      "          1       0.86      0.16      0.27       445\n",
      "\n",
      "avg / total       0.77      0.74      0.67      1500\n",
      "\n"
     ]
    }
   ],
   "source": [
    "#GaussianNB\n",
    "from sklearn.naive_bayes import GaussianNB\n",
    "from sklearn import metrics\n",
    "model = GaussianNB()\n",
    "model.fit(X_train, y_train)\n",
    "y_predict = model.predict(X_test)\n",
    "print(y_predict)\n",
    "count_misclassified = (y_test != y_predict).sum()\n",
    "print('Misclassified samples: {}'.format(count_misclassified))\n",
    "accuracy = metrics.accuracy_score(y_test, y_predict)\n",
    "print('Accuracy: {:.2f}'.format(accuracy))\n",
    "print(classification_report(y_test,y_predict))"
   ]
  },
  {
   "cell_type": "code",
   "execution_count": null,
   "metadata": {},
   "outputs": [],
   "source": []
  }
 ],
 "metadata": {
  "kernelspec": {
   "display_name": "Python 3",
   "language": "python",
   "name": "python3"
  },
  "language_info": {
   "codemirror_mode": {
    "name": "ipython",
    "version": 3
   },
   "file_extension": ".py",
   "mimetype": "text/x-python",
   "name": "python",
   "nbconvert_exporter": "python",
   "pygments_lexer": "ipython3",
   "version": "3.7.0"
  }
 },
 "nbformat": 4,
 "nbformat_minor": 2
}
